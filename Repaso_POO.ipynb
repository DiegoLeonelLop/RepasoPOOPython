{
  "nbformat": 4,
  "nbformat_minor": 0,
  "metadata": {
    "colab": {
      "name": "Repaso_POO.ipynb",
      "provenance": []
    },
    "kernelspec": {
      "name": "python3",
      "display_name": "Python 3"
    },
    "language_info": {
      "name": "python"
    }
  },
  "cells": [
    {
      "cell_type": "code",
      "metadata": {
        "id": "S0XfPr7C2zVi"
      },
      "source": [
        "POO es un paradigma no soportado originalmente por python\n",
        "python maneja el paradigma imperativo.\n",
        "\n",
        "Python simila la POO con la declaracion de clases y haciendo referencia a un objeto de forma circular.\n",
        " \"\"self en python es equvalente a this de JAVA\"\"\n",
        "\n",
        "forma 1 \n",
        "class <Nombre de la clase>:\n",
        " <definicion del cuerpo de la clase>\n",
        "forma 2 \n",
        "class <nombre de la clase>(<superclase>):\n",
        " <definicion del cuerpo de la clase> \n",
        " El constructor se define siempre con el metodo init() \n",
        "La declaracion de atributos se realiza por medio de el constructor. \n",
        "Para hacer encapsulamiento de metodos o atributos se debe poner __ (DOBLE GUION BAJO) previo a la delaracion del atributo o metodos (private en JAVA)"
      ],
      "execution_count": null,
      "outputs": []
    },
    {
      "cell_type": "code",
      "metadata": {
        "id": "RWhK6y9D29Vd"
      },
      "source": [
        "class Persona:\n",
        "    def __init__(self, n , e, est):\n",
        "        self.__nombre = n\n",
        "        self.__edad = e\n",
        "        self.__estatura = est\n",
        "    def to_string( self ):\n",
        "        return \"Nombre: \" + self.__nombre + \"Edad: \" + str(self.__edad) + \"Estatura: \" + str(self.__estatura)\n",
        "    def set_estatura(self, nueva_est):\n",
        "        if nueva_est > 0.10 and nueva_est < 2.5 :\n",
        "            self.__estatura = nueva_est\n",
        "        else:\n",
        "            print(\"ERROR: Esa estatura no es posible\")\n",
        "    def get_estatura( self):\n",
        "        return self.__estatura"
      ],
      "execution_count": 2,
      "outputs": []
    },
    {
      "cell_type": "code",
      "metadata": {
        "colab": {
          "base_uri": "https://localhost:8080/"
        },
        "id": "pu57mVl_3BAl",
        "outputId": "f0289294-efae-4163-f220-a02920208c4b"
      },
      "source": [
        "per = Persona(\"Jose\",18,1.70)\n",
        "print(per.to_string())\n",
        "\n",
        "#encapsulamiento\n",
        "\n",
        "per.nombre = \"Pedro\" # Esto no se recomienda\n",
        "\n",
        "print(per.to_string())\n",
        "\n",
        "#per.estatura = 3.9\n",
        "per.set_estatura(3.9)\n",
        "print(per.to_string())\n",
        "\n",
        "print(\"Estatura: \" , end=\"\")\n",
        "#print( per.__estatura)\n",
        "print(per.get_estatura())"
      ],
      "execution_count": 3,
      "outputs": [
        {
          "output_type": "stream",
          "name": "stdout",
          "text": [
            "Nombre: JoseEdad: 18Estatura: 1.7\n",
            "Nombre: JoseEdad: 18Estatura: 1.7\n",
            "ERROR: Esa estatura no es posible\n",
            "Nombre: JoseEdad: 18Estatura: 1.7\n",
            "Estatura: 1.7\n"
          ]
        }
      ]
    },
    {
      "cell_type": "code",
      "metadata": {
        "id": "mZ7AdbXu3DeN"
      },
      "source": [
        "class Estudiante( Persona ):\n",
        "    def __init__(self,  nc, nombre, edad, est):\n",
        "        self.__num_cta = nc\n",
        "        super().__init__(nombre,edad,est)\n",
        "    def to_string(self):\n",
        "        \n",
        "        return super().to_string() + \"Numero de cta.:\" + self.__num_cta"
      ],
      "execution_count": 4,
      "outputs": []
    },
    {
      "cell_type": "markdown",
      "metadata": {
        "id": "wU36g0H820Ye"
      },
      "source": [
        ""
      ]
    }
  ]
}